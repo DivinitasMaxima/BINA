{
  "cells": [
    {
      "cell_type": "markdown",
      "metadata": {
        "id": "view-in-github",
        "colab_type": "text"
      },
      "source": [
        "<a href=\"https://colab.research.google.com/github/DivinitasMaxima/BINA-REPO/blob/main/BINA_1.ipynb\" target=\"_parent\"><img src=\"https://colab.research.google.com/assets/colab-badge.svg\" alt=\"Open In Colab\"/></a>"
      ]
    },
    {
      "cell_type": "markdown",
      "metadata": {
        "id": "J9x7FY8icHpt"
      },
      "source": [
        "# Management Summary\n",
        "\n",
        "\n",
        "\n",
        "\n",
        "\n",
        "\n",
        "# 1. Einleitung\n",
        "\n",
        "In der heutigen wettbewerbsintensiven Luftfahrtbranche ist die Kundenzufriedenheit ein entscheidender Faktor für den Erfolg einer Fluggesellschaft. Um das Kundenerlebnis kontinuierlich zu verbessern, setzt eine führende Fluggesellschaft auf Bernard Marrs fünfstufigen Ansatz zur datengetriebenen Entscheidungsfindung.\n",
        "\n",
        "Dieser systematische Ansatz ermöglicht es der Fluggesellschaft, fundierte Entscheidungen zu treffen und Maßnahmen zu ergreifen, die die Bedürfnisse und Erwartungen ihrer Passagiere erfüllen. Im Folgenden wird der Prozess der Verbesserung der Kundenzufriedenheit Schritt für Schritt erläutert\n",
        "\n",
        "1.  Ziel und Informationsbedarf definieren\n",
        "2.  Daten sammeln\n",
        "3.  Daten analysieren\n",
        "4.  Informationen präsentieren\n",
        "5.  Datengestützte Entscheidung treffen\n",
        "\n",
        "---\n",
        "\n",
        "# 2. Datengestützte Entscheidung treffen\n",
        "\n",
        "## 2.1 Ziel und Informationsbedarf definieren\n",
        "Die Fluggesellschaft möchte die Faktoren verstehen, die die Kundenzufriedenheit beeinflussen, und Strategien identifizieren, um das Kundenerlebnis zu verbessern.\n",
        "\n",
        "## 2.3 Daten sammeln\n",
        "\n",
        "\n",
        "\n",
        "## Define objectives and information\n",
        "\n",
        "\n",
        "## Define objectives and information\n",
        "\n",
        "\n",
        "Clita kasd gubergren, no sea takimata sanctus est Lorem ipsum dolor sit amet. Lorem ipsum dolor sit amet, consetetur sadipscing elitr, sed diam nonumy eirmod tempor invidunt ut labore et dolore magna aliquyam erat, sed diam voluptua. At vero eos et accusam et justo duo dolores et ea rebum. Stet clita kasd gubergren, no sea takimata sanctus est Lorem ipsum dolor sit amet.\n",
        "\n"
      ]
    },
    {
      "cell_type": "code",
      "execution_count": 1,
      "metadata": {
        "id": "nvZF2gSu6YB-",
        "outputId": "63d8c694-9b70-4434-a96a-24dd9a31cfdf",
        "colab": {
          "base_uri": "https://localhost:8080/"
        }
      },
      "outputs": [
        {
          "output_type": "stream",
          "name": "stdout",
          "text": [
            "Hello, world!\n"
          ]
        }
      ],
      "source": [
        "# This program prints Hello, world!\n",
        "\n",
        "print('Hello, world!')"
      ]
    }
  ],
  "metadata": {
    "colab": {
      "provenance": [],
      "include_colab_link": true
    },
    "kernelspec": {
      "display_name": "Python 3",
      "name": "python3"
    },
    "language_info": {
      "codemirror_mode": {
        "name": "ipython",
        "version": 3
      },
      "file_extension": ".py",
      "mimetype": "text/x-python",
      "name": "python",
      "nbconvert_exporter": "python",
      "pygments_lexer": "ipython3",
      "version": "3.12.1"
    }
  },
  "nbformat": 4,
  "nbformat_minor": 0
}